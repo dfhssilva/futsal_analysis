{
 "cells": [
  {
   "cell_type": "code",
   "execution_count": 1,
   "metadata": {},
   "outputs": [],
   "source": [
    "import os\n",
    "from datetime import timedelta\n",
    "import cv2\n",
    "from PIL import Image\n",
    "import numpy as np\n",
    "import torch"
   ]
  },
  {
   "cell_type": "code",
   "execution_count": 2,
   "metadata": {},
   "outputs": [],
   "source": [
    "VIDEO_FILE = \"./data/Vídeo 1 - Sassoeiros - ACP [BakzGDcTsVE].webm\"\n",
    "FRAME_FOLDER = \"./data/Vídeo 1 - Sassoeiros - ACP [BakzGDcTsVE]-opencv/\"\n",
    "# i.e if video of duration 30 seconds, saves 10 frame per second = 300 frames saved in total\n",
    "SAVING_FRAMES_PER_SECOND = 10"
   ]
  },
  {
   "cell_type": "code",
   "execution_count": 3,
   "metadata": {},
   "outputs": [],
   "source": [
    "from pickle import FRAME\n",
    "\n",
    "\n",
    "def format_timedelta(td):\n",
    "    \"\"\"Utility function to format timedelta objects in a cool way (e.g 00:00:20.05) \n",
    "    omitting microseconds and retaining milliseconds\"\"\"\n",
    "    result = str(td)\n",
    "    try:\n",
    "        result, ms = result.split(\".\")\n",
    "    except ValueError:\n",
    "        return result + \".00\".replace(\":\", \"-\")\n",
    "    ms = int(ms)\n",
    "    ms = round(ms / 1e4)\n",
    "    return f\"{result}.{ms:02}\".replace(\":\", \"-\")\n",
    "\n",
    "\n",
    "def get_saving_frames_durations(cap, saving_fps):\n",
    "    \"\"\"A function that returns the list of durations where to save the frames\"\"\"\n",
    "    s = []\n",
    "    # get the clip duration by dividing number of frames by the number of frames per second\n",
    "    # clip_duration = cap.get(cv2.CAP_PROP_FRAME_COUNT) / cap.get(cv2.CAP_PROP_FPS)\n",
    "    clip_duration = 5  # only get first 5 seconds\n",
    "    # use np.arange() to make floating-point steps\n",
    "    for i in np.arange(0, clip_duration, 1 / saving_fps):\n",
    "        s.append(i)\n",
    "    return s\n",
    "\n",
    "\n",
    "def extract_video_frames(video_file):\n",
    "    # make a folder by the name of the video file\n",
    "    if not os.path.isdir(FRAME_FOLDER):\n",
    "        os.mkdir(FRAME_FOLDER)\n",
    "    # read the video file    \n",
    "    cap = cv2.VideoCapture(video_file)\n",
    "    # get the FPS of the video\n",
    "    fps = cap.get(cv2.CAP_PROP_FPS)\n",
    "    # if the SAVING_FRAMES_PER_SECOND is above video FPS, then set it to FPS (as maximum)\n",
    "    saving_frames_per_second = min(fps, SAVING_FRAMES_PER_SECOND)\n",
    "    # get the list of duration spots to save\n",
    "    saving_frames_durations = get_saving_frames_durations(cap, saving_frames_per_second)\n",
    "    # start the loop\n",
    "    count = 0\n",
    "    while True:\n",
    "        is_read, frame = cap.read()\n",
    "        if not is_read:\n",
    "            # break out of the loop if there are no frames to read\n",
    "            break\n",
    "        # get the duration by dividing the frame count by the FPS\n",
    "        frame_duration = count / fps\n",
    "        try:\n",
    "            # get the earliest duration to save\n",
    "            closest_duration = saving_frames_durations[0]\n",
    "        except IndexError:\n",
    "            # the list is empty, all duration frames were saved\n",
    "            break\n",
    "        if frame_duration >= closest_duration:\n",
    "            # if closest duration is less than or equals the frame duration, \n",
    "            # then save the frame\n",
    "            frame_duration_formatted = format_timedelta(timedelta(seconds=frame_duration))\n",
    "            cv2.imwrite(os.path.join(FRAME_FOLDER, f\"frame{frame_duration_formatted}.jpg\"), frame) \n",
    "            # drop the duration spot from the list, since this duration spot is already saved\n",
    "            try:\n",
    "                saving_frames_durations.pop(0)\n",
    "            except IndexError:\n",
    "                pass\n",
    "        # increment the frame count\n",
    "        count += 1"
   ]
  },
  {
   "cell_type": "code",
   "execution_count": 4,
   "metadata": {},
   "outputs": [],
   "source": [
    "# Extracting video frames to FRAME_FOLDER\n",
    "extract_video_frames(VIDEO_FILE)"
   ]
  },
  {
   "cell_type": "markdown",
   "metadata": {},
   "source": [
    "## Object Detection"
   ]
  },
  {
   "cell_type": "code",
   "execution_count": null,
   "metadata": {},
   "outputs": [],
   "source": [
    "# Yolo Inference\n",
    "# PyTorch Hub Model\n",
    "model = torch.hub.load('ultralytics/yolov5', 'yolov5s')  # or yolov5n - yolov5x6, custom\n",
    "\n",
    "# Images\n",
    "pandas_results = []\n",
    "for img in os.listdir(\"./frames\"):\n",
    "  im = Image.open(f\"./frames/{img}\")\n",
    "  # Inference\n",
    "  results = model(im)\n",
    "  results.save()\n",
    "  pandas_results.append(results.pandas().xyxy[0])"
   ]
  },
  {
   "cell_type": "markdown",
   "metadata": {},
   "source": [
    "## Team Recognition"
   ]
  },
  {
   "cell_type": "code",
   "execution_count": null,
   "metadata": {},
   "outputs": [],
   "source": []
  },
  {
   "cell_type": "markdown",
   "metadata": {},
   "source": [
    "## Player Identification"
   ]
  },
  {
   "cell_type": "markdown",
   "metadata": {},
   "source": []
  }
 ],
 "metadata": {
  "kernelspec": {
   "display_name": "Python 3.10.4 ('futsal')",
   "language": "python",
   "name": "python3"
  },
  "language_info": {
   "codemirror_mode": {
    "name": "ipython",
    "version": 3
   },
   "file_extension": ".py",
   "mimetype": "text/x-python",
   "name": "python",
   "nbconvert_exporter": "python",
   "pygments_lexer": "ipython3",
   "version": "3.10.4"
  },
  "orig_nbformat": 4,
  "vscode": {
   "interpreter": {
    "hash": "a16b71145f5e01095f43b81f6aad4bc6e42ff630d55126e97ea2084257b9ee8a"
   }
  }
 },
 "nbformat": 4,
 "nbformat_minor": 2
}
